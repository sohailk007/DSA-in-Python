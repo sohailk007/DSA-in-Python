{
 "cells": [
  {
   "cell_type": "code",
   "execution_count": 9,
   "id": "2aa5f8cb",
   "metadata": {},
   "outputs": [],
   "source": [
    "stock_prices = []\n",
    "with open(\"stock_prices.csv\", \"r\") as f:\n",
    "    for line in f:\n",
    "        day, price = line.split(',')\n",
    "        price = float(price)\n",
    "        stock_prices.append([day,price])\n",
    "        \n"
   ]
  },
  {
   "cell_type": "code",
   "execution_count": 10,
   "id": "222c814a",
   "metadata": {},
   "outputs": [
    {
     "data": {
      "text/plain": [
       "[['march 6', 310.0],\n",
       " ['march 7', 340.0],\n",
       " ['march 8', 380.0],\n",
       " ['march 9', 302.0],\n",
       " ['march 10', 297.0],\n",
       " ['march 11', 323.0]]"
      ]
     },
     "execution_count": 10,
     "metadata": {},
     "output_type": "execute_result"
    }
   ],
   "source": [
    "stock_prices"
   ]
  },
  {
   "cell_type": "code",
   "execution_count": 11,
   "id": "3dab52d7",
   "metadata": {},
   "outputs": [
    {
     "name": "stdout",
     "output_type": "stream",
     "text": [
      "323.0\n"
     ]
    }
   ],
   "source": [
    "for element in stock_prices:\n",
    "    if element[0] == 'march 11':\n",
    "        print(element[1])"
   ]
  },
  {
   "cell_type": "code",
   "execution_count": 13,
   "id": "67609aec",
   "metadata": {},
   "outputs": [],
   "source": [
    "stock_prices = {}\n",
    "\n",
    "with open(\"stock_prices.csv\", \"r\") as file:\n",
    "    for line in file:\n",
    "        day, price = line.split(',')\n",
    "        price = float(price)\n",
    "        stock_prices[day] = price        "
   ]
  },
  {
   "cell_type": "code",
   "execution_count": 14,
   "id": "1dd557c3",
   "metadata": {},
   "outputs": [
    {
     "data": {
      "text/plain": [
       "302.0"
      ]
     },
     "execution_count": 14,
     "metadata": {},
     "output_type": "execute_result"
    }
   ],
   "source": [
    "stock_prices['march 9']"
   ]
  }
 ],
 "metadata": {
  "kernelspec": {
   "display_name": "Python 3",
   "language": "python",
   "name": "python3"
  },
  "language_info": {
   "codemirror_mode": {
    "name": "ipython",
    "version": 3
   },
   "file_extension": ".py",
   "mimetype": "text/x-python",
   "name": "python",
   "nbconvert_exporter": "python",
   "pygments_lexer": "ipython3",
   "version": "3.12.6"
  }
 },
 "nbformat": 4,
 "nbformat_minor": 5
}
